{
 "cells": [
  {
   "cell_type": "markdown",
   "metadata": {},
   "source": [
    "### Import libary"
   ]
  },
  {
   "cell_type": "code",
   "execution_count": 1,
   "metadata": {},
   "outputs": [],
   "source": [
    "from sympy import *"
   ]
  },
  {
   "cell_type": "markdown",
   "metadata": {},
   "source": [
    "### Add symbols variables"
   ]
  },
  {
   "cell_type": "markdown",
   "metadata": {},
   "source": [
    "Constant"
   ]
  },
  {
   "cell_type": "code",
   "execution_count": 3,
   "metadata": {},
   "outputs": [],
   "source": [
    "mass_rod_1, mass_rod_2, inertia_rod_1, inertia_rod_2, len_rod_1, len_rod_2, g = symbols('m_1 m_2 I_1 I_2 l_1 l_2 g', positive=True)"
   ]
  },
  {
   "cell_type": "markdown",
   "metadata": {},
   "source": [
    "Generalized coordinates"
   ]
  },
  {
   "cell_type": "code",
   "execution_count": 4,
   "metadata": {},
   "outputs": [],
   "source": [
    "t = symbols('t', positive = True)\n",
    "tt1, tt2 = symbols('theta_1 theta_2', cls=Function)\n",
    "d_tt1 = tt1(t).diff(t)\n",
    "d_tt2 = tt2(t).diff(t)"
   ]
  },
  {
   "cell_type": "markdown",
   "metadata": {},
   "source": [
    "##  Forward kinematics"
   ]
  },
  {
   "cell_type": "code",
   "execution_count": 5,
   "metadata": {},
   "outputs": [
    {
     "name": "stdout",
     "output_type": "stream",
     "text": [
      "Matrix([[l_1*sin(theta_1(t)) + l_2*sin(theta_1(t) + theta_2(t))/2], [-l_1*cos(theta_2(t)) - l_2*cos(theta_1(t) + theta_2(t))/2]])\n"
     ]
    }
   ],
   "source": [
    "#point_1 = chrono.ChVectorD(len_rod_1/2*np.sin(tt1), -len_rod_1/2*np.cos(tt2),0.)\n",
    "#point_2 = point_1*2. + chrono.ChVectorD(len_rod_2/2*np.sin(tt1+tt2), - len_rod_2/2*np.cos(tt1+tt2),0.)\n",
    "#print(point_2)\n",
    "\n",
    "point_1 = Matrix([[len_rod_1/2*sin(tt1(t))],[-len_rod_1/2*cos(tt2(t))]])\n",
    "point_2 = 2*point_1 + Matrix([[len_rod_2/2*sin(tt1(t)+tt2(t))],[- len_rod_2/2*cos(tt1(t)+tt2(t))]])\n",
    "print(point_2)"
   ]
  },
  {
   "cell_type": "markdown",
   "metadata": {},
   "source": [
    "## Equation of motion - SymPy"
   ]
  },
  {
   "cell_type": "markdown",
   "metadata": {},
   "source": [
    "\n",
    "1. Potential energy"
   ]
  },
  {
   "cell_type": "code",
   "execution_count": 6,
   "metadata": {},
   "outputs": [],
   "source": [
    "EngP = (-mass_rod_1*g*len_rod_1/2*cos(tt1(t)) \n",
    "        - mass_rod_2*g*(len_rod_2/2*cos(tt1(t) + tt2(t)) + len_rod_1*cos(tt1(t))))"
   ]
  },
  {
   "cell_type": "markdown",
   "metadata": {},
   "source": [
    "\n",
    "2. Kinetic energy"
   ]
  },
  {
   "cell_type": "code",
   "execution_count": 7,
   "metadata": {},
   "outputs": [],
   "source": [
    "\n",
    "EngT_1 = 1/2 * inertia_rod_1 * d_tt1 ** 2\n",
    "\n",
    "EngT_2 = (1/2*(mass_rod_2*len_rod_1**2 + inertia_rod_2 \n",
    "        + 2*mass_rod_2*len_rod_1*len_rod_2/2*cos(tt2(t)))*d_tt1**2 + 1/2*inertia_rod_2*d_tt2**2\n",
    "        + (inertia_rod_2 + mass_rod_2*len_rod_1*len_rod_2/2*cos(tt2(t)))*d_tt1*d_tt2)\n",
    "\n",
    "EngT = EngT_1 + EngT_2"
   ]
  },
  {
   "cell_type": "markdown",
   "metadata": {},
   "source": [
    "Euler–Lagrange equation"
   ]
  },
  {
   "cell_type": "code",
   "execution_count": 9,
   "metadata": {},
   "outputs": [
    {
     "name": "stdout",
     "output_type": "stream",
     "text": [
      "1.0 I_{1} \\frac{d^{2}}{d t^{2}} \\theta_{1}{\\left(t \\right)} + \\frac{g l_{1} m_{1} \\sin{\\left(\\theta_{1}{\\left(t \\right)} \\right)}}{2} - g m_{2} \\left(- l_{1} \\sin{\\left(\\theta_{1}{\\left(t \\right)} \\right)} - \\frac{l_{2} \\sin{\\left(\\theta_{1}{\\left(t \\right)} + \\theta_{2}{\\left(t \\right)} \\right)}}{2}\\right) - 1.0 l_{1} l_{2} m_{2} \\sin{\\left(\\theta_{2}{\\left(t \\right)} \\right)} \\frac{d}{d t} \\theta_{1}{\\left(t \\right)} \\frac{d}{d t} \\theta_{2}{\\left(t \\right)} - \\frac{l_{1} l_{2} m_{2} \\sin{\\left(\\theta_{2}{\\left(t \\right)} \\right)} \\left(\\frac{d}{d t} \\theta_{2}{\\left(t \\right)}\\right)^{2}}{2} + \\left(I_{2} + \\frac{l_{1} l_{2} m_{2} \\cos{\\left(\\theta_{2}{\\left(t \\right)} \\right)}}{2}\\right) \\frac{d^{2}}{d t^{2}} \\theta_{2}{\\left(t \\right)} + \\left(I_{2} + l_{1}^{2} m_{2} + l_{1} l_{2} m_{2} \\cos{\\left(\\theta_{2}{\\left(t \\right)} \\right)}\\right) \\frac{d^{2}}{d t^{2}} \\theta_{1}{\\left(t \\right)} = 0\n"
     ]
    }
   ],
   "source": [
    "L = EngT - EngP\n",
    "u = symbols('tau', cls=Function)\n",
    "EoM_1 = Eq(L.diff(d_tt1).diff(t) - L.diff(tt1(t)),0)\n",
    "EoM_2 = Eq(L.diff(d_tt2).diff(t) - L.diff(tt2(t)),u(t))\n",
    "print_latex(EoM_1)"
   ]
  },
  {
   "cell_type": "markdown",
   "metadata": {},
   "source": [
    "### Manipulator equation"
   ]
  },
  {
   "cell_type": "code",
   "execution_count": 19,
   "metadata": {},
   "outputs": [],
   "source": [
    "M = Matrix([[inertia_rod_1 + inertia_rod_2 + mass_rod_2*len_rod_1**2 + 2*mass_rod_2*len_rod_1*len_rod_2/2*cos(tt2(t)),\n",
    "          inertia_rod_2 + mass_rod_2*len_rod_1*len_rod_2/2*cos(tt2(t))],\n",
    "         [inertia_rod_2 + mass_rod_2*len_rod_1*len_rod_2/2*cos(tt2(t)), inertia_rod_2]])\n",
    "\n",
    "C = Matrix([[-2*mass_rod_2*len_rod_1*len_rod_2/2*sin(tt2(t))*d_tt2, -mass_rod_2*len_rod_1*len_rod_2/2*sin(tt2(t))*d_tt2],\n",
    "         [mass_rod_2*len_rod_1*len_rod_2/2*sin(tt2(t))*d_tt2, 0]])\n",
    "\n",
    "G = Matrix([[-mass_rod_1*g*len_rod_1/2*sin(tt1(t)) - mass_rod_2*g*(len_rod_1*sin(tt1(t))+ len_rod_2/2*sin(tt1(t) + tt2(t)))],\n",
    "                    [-mass_rod_2*g*len_rod_2/2*sin(tt1(t)+tt2(t))]])\n",
    "\n",
    "B = Matrix([[0],[1]])\n",
    "\n",
    "dq_G = Matrix([[g*(mass_rod_1*len_rod_1/2 + mass_rod_2*len_rod_1 + mass_rod_2*len_rod_2/2), mass_rod_2*len_rod_2/2 * g],\n",
    "                   [mass_rod_2*len_rod_2/2 * g, mass_rod_2*len_rod_2/2 * g]])\n"
   ]
  },
  {
   "cell_type": "code",
   "execution_count": 28,
   "metadata": {},
   "outputs": [
    {
     "name": "stdout",
     "output_type": "stream",
     "text": [
      "\\left[\\begin{matrix}- \\frac{g l_{1} m_{1}}{2} - g m_{2} \\left(l_{1} + \\frac{l_{2}}{2}\\right)\\\\- \\frac{g l_{2} m_{2}}{2}\\end{matrix}\\right]\n"
     ]
    }
   ],
   "source": [
    "print_latex()"
   ]
  },
  {
   "cell_type": "code",
   "execution_count": null,
   "metadata": {},
   "outputs": [],
   "source": [
    "\n",
    "#Alin = Matrix([[zeros((2,2)),eye(2)],[inv(M) @ dq_G, np.zeros((2,2))]])\n",
    "#Blin = np.block([[np.zeros((2,1))],[la.inv(listM) @ listB]])\n",
    "\n",
    "#Q = np.diag((10.,10.,1.,1.))\n",
    "#R = np.asarray([1])\n",
    "\n",
    "#X, K, E = lqr(Alin,Blin,Q,R)"
   ]
  },
  {
   "cell_type": "markdown",
   "metadata": {},
   "source": [
    "# Equation of motion - numpy version"
   ]
  },
  {
   "cell_type": "markdown",
   "metadata": {},
   "source": [
    "Libaries"
   ]
  },
  {
   "cell_type": "code",
   "execution_count": 1,
   "metadata": {},
   "outputs": [],
   "source": [
    "from cmath import cos\n",
    "import pychrono.core as chrono\n",
    "import pychrono.irrlicht as chrirr\n",
    "import numpy as np\n",
    "import numpy.linalg as la\n",
    "import scipy.linalg as cla\n",
    "import matplotlib.pyplot as plt"
   ]
  },
  {
   "cell_type": "markdown",
   "metadata": {},
   "source": [
    "Function for calculate coefficients controller"
   ]
  },
  {
   "cell_type": "code",
   "execution_count": 2,
   "metadata": {},
   "outputs": [],
   "source": [
    "def lqr(A,B,Q,R):\n",
    "    X = np.matrix(cla.solve_continuous_are(A, B, Q, R))\n",
    "    K = np.matrix(1/R*(B.T*X))\n",
    "    E= cla.eig(A-B*K)[0]\n",
    "    return X, K, E  "
   ]
  },
  {
   "cell_type": "markdown",
   "metadata": {},
   "source": [
    "Parameters"
   ]
  },
  {
   "cell_type": "code",
   "execution_count": 3,
   "metadata": {},
   "outputs": [],
   "source": [
    "xz_rod = 0.05\n",
    "len_rod_1 = 0.3\n",
    "len_rod_2 = 0.6\n",
    "density = 1000\n",
    "g = 9.81\n",
    "\n",
    "mass_rod_1 = xz_rod**2*len_rod_1*density\n",
    "mass_rod_2 = xz_rod**2*len_rod_2*density\n",
    "\n",
    "inertia_rod_1 = len_rod_1**2*mass_rod_1\n",
    "inertia_rod_2 = len_rod_2**2*mass_rod_2"
   ]
  },
  {
   "cell_type": "markdown",
   "metadata": {},
   "source": [
    "The equlibrium state"
   ]
  },
  {
   "cell_type": "code",
   "execution_count": 4,
   "metadata": {},
   "outputs": [],
   "source": [
    "tt1 = np.pi\n",
    "tt2 = 0\n",
    "d_tt1 = 0\n",
    "d_tt2 = 0"
   ]
  },
  {
   "cell_type": "markdown",
   "metadata": {},
   "source": [
    "Manipulator equation"
   ]
  },
  {
   "cell_type": "code",
   "execution_count": 5,
   "metadata": {},
   "outputs": [
    {
     "name": "stdout",
     "output_type": "stream",
     "text": [
      "[-15.27959562+0.j          -3.67987523+0.j\n",
      "  -2.86285367+0.16265233j  -2.86285367-0.16265233j]\n"
     ]
    }
   ],
   "source": [
    "\n",
    "listM = np.asarray([[inertia_rod_1 + inertia_rod_2 + mass_rod_2*len_rod_1**2 + 2*mass_rod_2*len_rod_1*len_rod_2/2*np.cos(tt2),\n",
    "          inertia_rod_2 + mass_rod_2*len_rod_1*len_rod_2/2*np.cos(tt2)],\n",
    "         [inertia_rod_2 + mass_rod_2*len_rod_1*len_rod_2/2*np.cos(tt2), inertia_rod_2]])\n",
    "\n",
    "\n",
    "listC = np.asarray([[-2*mass_rod_2*len_rod_1*len_rod_2/2*np.sin(tt2)*d_tt2, -mass_rod_2*len_rod_1*len_rod_2/2*np.sin(tt2)*d_tt2],\n",
    "         [mass_rod_2*len_rod_1*len_rod_2/2*np.sin(tt2)*d_tt2, 0]])\n",
    "\n",
    "listG = np.asarray([[-mass_rod_1*g*len_rod_1/2*np.sin(tt1) - mass_rod_2*g*(len_rod_1*np.sin(tt1)+ len_rod_2/2*np.sin(tt1 + tt2))],\n",
    "                    [-mass_rod_2*g*len_rod_2/2*np.sin(tt1+tt2)]])\n",
    "\n",
    "\n",
    "listB = np.asarray([[0],[1]])\n",
    "\n",
    "dq_G = np.asarray([[g*(mass_rod_1*len_rod_1/2 + mass_rod_2*len_rod_1 + mass_rod_2*len_rod_2/2), mass_rod_2*len_rod_2/2 * g],\n",
    "                   [mass_rod_2*len_rod_2/2 * g, mass_rod_2*len_rod_2/2 * g]])"
   ]
  },
  {
   "cell_type": "markdown",
   "metadata": {},
   "source": [
    "Linearization"
   ]
  },
  {
   "cell_type": "code",
   "execution_count": null,
   "metadata": {},
   "outputs": [],
   "source": [
    "\n",
    "Alin = np.block([[np.zeros((2,2)),np.eye(2)],[la.inv(listM) @ dq_G, np.zeros((2,2))]])\n",
    "Blin = np.block([[np.zeros((2,1))],[la.inv(listM) @ listB]])\n",
    "\n",
    "Q = np.diag((10.,10.,1.,1.))\n",
    "R = np.asarray([1])\n",
    "\n",
    "X, K, E = lqr(Alin,Blin,Q,R)\n"
   ]
  },
  {
   "cell_type": "markdown",
   "metadata": {},
   "source": [
    "Coefficents controller"
   ]
  },
  {
   "cell_type": "code",
   "execution_count": 6,
   "metadata": {},
   "outputs": [
    {
     "name": "stdout",
     "output_type": "stream",
     "text": [
      "[[-95.33425181 -44.15974824 -29.72448497 -17.59465727]]\n"
     ]
    }
   ],
   "source": [
    "\n",
    "print(K)"
   ]
  }
 ],
 "metadata": {
  "kernelspec": {
   "display_name": "Python 3.9.12 ('base')",
   "language": "python",
   "name": "python3"
  },
  "language_info": {
   "codemirror_mode": {
    "name": "ipython",
    "version": 3
   },
   "file_extension": ".py",
   "mimetype": "text/x-python",
   "name": "python",
   "nbconvert_exporter": "python",
   "pygments_lexer": "ipython3",
   "version": "3.9.12"
  },
  "orig_nbformat": 4,
  "vscode": {
   "interpreter": {
    "hash": "df335860a33a92aed4af16382764ff3d4b3111c4ffcbbcc7a8dcfac248bf2419"
   }
  }
 },
 "nbformat": 4,
 "nbformat_minor": 2
}
